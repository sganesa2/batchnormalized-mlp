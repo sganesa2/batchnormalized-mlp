{
 "cells": [
  {
   "cell_type": "code",
   "execution_count": 1,
   "id": "8860852e",
   "metadata": {},
   "outputs": [],
   "source": [
    "from data.dataset import NgramDataset"
   ]
  },
  {
   "cell_type": "code",
   "execution_count": 2,
   "id": "45437359",
   "metadata": {},
   "outputs": [],
   "source": [
    "obj = NgramDataset(3, \"dataset.txt\", 25626,3204,3203)\n",
    "x,y = obj.get_complete_dataset()"
   ]
  }
 ],
 "metadata": {
  "kernelspec": {
   "display_name": "batchnormalized-mlp",
   "language": "python",
   "name": "python3"
  },
  "language_info": {
   "codemirror_mode": {
    "name": "ipython",
    "version": 3
   },
   "file_extension": ".py",
   "mimetype": "text/x-python",
   "name": "python",
   "nbconvert_exporter": "python",
   "pygments_lexer": "ipython3",
   "version": "3.11.9"
  }
 },
 "nbformat": 4,
 "nbformat_minor": 5
}
