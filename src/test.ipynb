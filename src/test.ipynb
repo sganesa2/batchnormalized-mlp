{
 "cells": [
  {
   "cell_type": "code",
   "execution_count": null,
   "id": "a65c1441",
   "metadata": {},
   "outputs": [],
   "source": [
    "from data.dataset import NgramDataset\n",
    "from model.train import BatchNormalizedMLP\n",
    "from model.inference import run_batchnormlized_mlp\n",
    "#Dataset creation\n",
    "dataset = NgramDataset(3, \"dataset.txt\", 25626,3204,3203)\n",
    "x,y = dataset.get_complete_dataset()\n",
    "x_train,y_train = dataset.trainset\n",
    "\n",
    "#Model training\n",
    "model = BatchNormalizedMLP(200, 3, feature_dims=10)\n",
    "model.minibatch_gradient_descent(32, x_train, y_train, 1000, 0.1,0)\n",
    "\n",
    "#Inference\n",
    "words = run_batchnormlized_mlp(10, model, 'emm')"
   ]
  }
 ],
 "metadata": {
  "language_info": {
   "name": "python"
  }
 },
 "nbformat": 4,
 "nbformat_minor": 5
}
