{
 "cells": [
  {
   "cell_type": "code",
   "execution_count": 1,
   "id": "45437359",
   "metadata": {},
   "outputs": [],
   "source": [
    "from data.dataset import NgramDataset\n",
    "dataset = NgramDataset(3, \"dataset.txt\", 25626,3204,3203)\n",
    "x,y = dataset.get_complete_dataset()\n",
    "x_train,y_train = dataset.trainset"
   ]
  },
  {
   "cell_type": "code",
   "execution_count": null,
   "id": "d533ee54",
   "metadata": {},
   "outputs": [],
   "source": [
    "from model.train import BatchNormalizedMLP\n",
    "model = BatchNormalizedMLP(200, 3, feature_dims=10)\n",
    "model.minibatch_gradient_descent(32, x_train, y_train, 1000, 0.1,0)"
   ]
  },
  {
   "cell_type": "code",
   "execution_count": 39,
   "id": "ffae3521",
   "metadata": {},
   "outputs": [],
   "source": [
    "from model.inference import run_batchnormlized_mlp\n",
    "words = run_batchnormlized_mlp(10, model, 'minibatch_gradient_descent','emm')"
   ]
  }
 ],
 "metadata": {
  "kernelspec": {
   "display_name": "batchnormalized-mlp",
   "language": "python",
   "name": "python3"
  },
  "language_info": {
   "codemirror_mode": {
    "name": "ipython",
    "version": 3
   },
   "file_extension": ".py",
   "mimetype": "text/x-python",
   "name": "python",
   "nbconvert_exporter": "python",
   "pygments_lexer": "ipython3",
   "version": "3.11.9"
  }
 },
 "nbformat": 4,
 "nbformat_minor": 5
}
