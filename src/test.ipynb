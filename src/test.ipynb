{
 "cells": [
  {
   "cell_type": "code",
   "execution_count": 1,
   "id": "8860852e",
   "metadata": {},
   "outputs": [],
   "source": [
    "from data.dataset import NgramDataset"
   ]
  },
  {
   "cell_type": "code",
   "execution_count": 2,
   "id": "45437359",
   "metadata": {},
   "outputs": [],
   "source": [
    "obj = NgramDataset(3, \"dataset.txt\", 25626,3204,3203)\n",
    "x,y = obj.get_complete_dataset()"
   ]
  },
  {
   "cell_type": "code",
   "execution_count": 5,
   "id": "0eb022d6",
   "metadata": {},
   "outputs": [
    {
     "data": {
      "text/plain": [
       "3"
      ]
     },
     "execution_count": 5,
     "metadata": {},
     "output_type": "execute_result"
    }
   ],
   "source": [
    "import torch\n",
    "x = torch.ones((3,4))\n",
    "len(x)"
   ]
  },
  {
   "cell_type": "code",
   "execution_count": 12,
   "id": "8bad6d87",
   "metadata": {},
   "outputs": [],
   "source": [
    "import torch\n",
    "class A:\n",
    "    def __init__(self,x:int)->None:\n",
    "        self.x = torch.tensor(x)\n",
    "    \n",
    "    @property\n",
    "    def param(self)->torch.Tensor:\n",
    "        return self.x\n",
    "    def update(self)->None:\n",
    "        x = self.param\n",
    "        x+=1"
   ]
  },
  {
   "cell_type": "code",
   "execution_count": 13,
   "id": "32052ace",
   "metadata": {},
   "outputs": [],
   "source": [
    "x = A(2)\n",
    "x.update()"
   ]
  },
  {
   "cell_type": "code",
   "execution_count": 14,
   "id": "7bd9c339",
   "metadata": {},
   "outputs": [
    {
     "data": {
      "text/plain": [
       "tensor(3)"
      ]
     },
     "execution_count": 14,
     "metadata": {},
     "output_type": "execute_result"
    }
   ],
   "source": [
    "x.x"
   ]
  },
  {
   "cell_type": "code",
   "execution_count": null,
   "id": "2eafde52",
   "metadata": {},
   "outputs": [],
   "source": []
  }
 ],
 "metadata": {
  "kernelspec": {
   "display_name": "batchnormalized-mlp",
   "language": "python",
   "name": "python3"
  },
  "language_info": {
   "codemirror_mode": {
    "name": "ipython",
    "version": 3
   },
   "file_extension": ".py",
   "mimetype": "text/x-python",
   "name": "python",
   "nbconvert_exporter": "python",
   "pygments_lexer": "ipython3",
   "version": "3.11.9"
  }
 },
 "nbformat": 4,
 "nbformat_minor": 5
}
