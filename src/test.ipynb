{
 "cells": [
  {
   "cell_type": "code",
   "execution_count": 1,
   "id": "8860852e",
   "metadata": {},
   "outputs": [],
   "source": [
    "from data.dataset import NgramDataset"
   ]
  },
  {
   "cell_type": "code",
   "execution_count": 2,
   "id": "45437359",
   "metadata": {},
   "outputs": [],
   "source": [
    "obj = NgramDataset(3, \"dataset.txt\", 25626,3204,3203)\n",
    "x,y = obj.get_complete_dataset()"
   ]
  },
  {
   "cell_type": "code",
   "execution_count": 25,
   "id": "570fb20b",
   "metadata": {},
   "outputs": [
    {
     "name": "stdout",
     "output_type": "stream",
     "text": [
      "tensor([1., 1., 1.])\n",
      "tensor([1., 1., 1.])\n"
     ]
    }
   ],
   "source": [
    "x = torch.ones((2,3))\n",
    "s = time.perf_counter()\n",
    "for i in range(len(x)):\n",
    "    print(x[i])\n",
    "e = time.perf_counter()"
   ]
  },
  {
   "cell_type": "code",
   "execution_count": 29,
   "id": "5e5c6294",
   "metadata": {},
   "outputs": [
    {
     "name": "stdout",
     "output_type": "stream",
     "text": [
      "tensor([1., 1., 1.]) tensor([0., 0., 0.])\n",
      "tensor([1., 1., 1.]) tensor([0., 0., 0.])\n"
     ]
    }
   ],
   "source": [
    "for a,b in zip(torch.ones((2,3)),torch.zeros((2,3))):\n",
    "    print(a,b)"
   ]
  },
  {
   "cell_type": "code",
   "execution_count": 3,
   "id": "4996112a",
   "metadata": {},
   "outputs": [],
   "source": [
    "import torch\n",
    "rg = torch.Generator().manual_seed(0)"
   ]
  },
  {
   "cell_type": "code",
   "execution_count": 15,
   "id": "073760c6",
   "metadata": {},
   "outputs": [],
   "source": [
    "a = torch.tensor([[2,3,4],[5,6,7]]).split(2, dim=0)"
   ]
  },
  {
   "cell_type": "code",
   "execution_count": 16,
   "id": "b8468767",
   "metadata": {},
   "outputs": [
    {
     "data": {
      "text/plain": [
       "tensor([[2, 3, 4],\n",
       "        [5, 6, 7]])"
      ]
     },
     "execution_count": 16,
     "metadata": {},
     "output_type": "execute_result"
    }
   ],
   "source": [
    "a[0]"
   ]
  },
  {
   "cell_type": "code",
   "execution_count": null,
   "id": "53a0e76f",
   "metadata": {},
   "outputs": [],
   "source": []
  }
 ],
 "metadata": {
  "kernelspec": {
   "display_name": "batchnormalized-mlp",
   "language": "python",
   "name": "python3"
  },
  "language_info": {
   "codemirror_mode": {
    "name": "ipython",
    "version": 3
   },
   "file_extension": ".py",
   "mimetype": "text/x-python",
   "name": "python",
   "nbconvert_exporter": "python",
   "pygments_lexer": "ipython3",
   "version": "3.11.9"
  }
 },
 "nbformat": 4,
 "nbformat_minor": 5
}
